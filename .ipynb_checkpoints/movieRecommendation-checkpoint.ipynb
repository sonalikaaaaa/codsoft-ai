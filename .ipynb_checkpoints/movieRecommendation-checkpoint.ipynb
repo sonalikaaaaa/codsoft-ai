{
 "cells": [
  {
   "cell_type": "code",
   "execution_count": 4,
   "id": "e47292c5-75ba-4077-9d5a-ed6ce1f5948c",
   "metadata": {},
   "outputs": [],
   "source": [
    "import pandas as pd\n",
    "from sklearn.feature_extraction.text import TfidfVectorizer\n",
    "from sklearn.metrics.pairwise import cosine_similarity"
   ]
  },
  {
   "cell_type": "code",
   "execution_count": 5,
   "id": "bf874c07-42d3-4bbd-bc6d-fa8f8d485940",
   "metadata": {},
   "outputs": [],
   "source": [
    "movies = pd.DataFrame({\n",
    "    'Movie': ['Movie1', 'Movie2', 'Movie3', 'Movie4'],\n",
    "    'Genre': ['Action Adventure', 'Romantic Comedy', 'Action', 'Action Adventure Comedy']\n",
    "})\n"
   ]
  },
  {
   "cell_type": "code",
   "execution_count": 6,
   "id": "544acab7-8303-46b8-b9bf-bddb9612ac70",
   "metadata": {},
   "outputs": [],
   "source": [
    "user_preference = 'Action Adventure'"
   ]
  },
  {
   "cell_type": "code",
   "execution_count": 8,
   "id": "2f5687d9-f2f0-4d5f-bb27-882ef9888856",
   "metadata": {},
   "outputs": [],
   "source": [
    "tfidf = TfidfVectorizer()\n",
    "tfidf_matrix = tfidf.fit_transform(movies['Genre'])\n",
    "user_vector = tfidf.transform([user_preference])"
   ]
  },
  {
   "cell_type": "code",
   "execution_count": 12,
   "id": "1b649489-0a4b-451c-945d-d613477e4ff8",
   "metadata": {},
   "outputs": [],
   "source": [
    "cosine_sim = cosine_similarity(user_vector, tfidf_matrix).flatten()"
   ]
  },
  {
   "cell_type": "code",
   "execution_count": 13,
   "id": "705f6df5-241a-4fed-91a5-ba2e54fcdb48",
   "metadata": {},
   "outputs": [
    {
     "data": {
      "text/html": [
       "<div>\n",
       "<style scoped>\n",
       "    .dataframe tbody tr th:only-of-type {\n",
       "        vertical-align: middle;\n",
       "    }\n",
       "\n",
       "    .dataframe tbody tr th {\n",
       "        vertical-align: top;\n",
       "    }\n",
       "\n",
       "    .dataframe thead th {\n",
       "        text-align: right;\n",
       "    }\n",
       "</style>\n",
       "<table border=\"1\" class=\"dataframe\">\n",
       "  <thead>\n",
       "    <tr style=\"text-align: right;\">\n",
       "      <th></th>\n",
       "      <th>Movie</th>\n",
       "      <th>Genre</th>\n",
       "      <th>Similarity</th>\n",
       "    </tr>\n",
       "  </thead>\n",
       "  <tbody>\n",
       "    <tr>\n",
       "      <th>0</th>\n",
       "      <td>Movie1</td>\n",
       "      <td>Action Adventure</td>\n",
       "      <td>1.000000</td>\n",
       "    </tr>\n",
       "    <tr>\n",
       "      <th>3</th>\n",
       "      <td>Movie4</td>\n",
       "      <td>Action Adventure Comedy</td>\n",
       "      <td>0.789565</td>\n",
       "    </tr>\n",
       "    <tr>\n",
       "      <th>2</th>\n",
       "      <td>Movie3</td>\n",
       "      <td>Action</td>\n",
       "      <td>0.629228</td>\n",
       "    </tr>\n",
       "  </tbody>\n",
       "</table>\n",
       "</div>"
      ],
      "text/plain": [
       "    Movie                    Genre  Similarity\n",
       "0  Movie1         Action Adventure    1.000000\n",
       "3  Movie4  Action Adventure Comedy    0.789565\n",
       "2  Movie3                   Action    0.629228"
      ]
     },
     "execution_count": 13,
     "metadata": {},
     "output_type": "execute_result"
    }
   ],
   "source": [
    "movies['Similarity'] = cosine_sim\n",
    "recommendations = movies.sort_values(by='Similarity', ascending=False).head(3)\n",
    "recommendations\n"
   ]
  },
  {
   "cell_type": "code",
   "execution_count": 16,
   "id": "ff637211-c8fc-4f98-ba77-c98582ba9fe2",
   "metadata": {},
   "outputs": [
    {
     "name": "stdout",
     "output_type": "stream",
     "text": [
      "    Movie  Similarity\n",
      "0  Movie1    1.000000\n",
      "3  Movie4    0.789565\n",
      "2  Movie3    0.629228\n"
     ]
    }
   ],
   "source": [
    "print(recommendations[['Movie', 'Similarity']])"
   ]
  },
  {
   "cell_type": "code",
   "execution_count": null,
   "id": "558c5bc8-6da8-4f93-8b04-dae1e7917440",
   "metadata": {},
   "outputs": [],
   "source": []
  }
 ],
 "metadata": {
  "kernelspec": {
   "display_name": "Python 3 (ipykernel)",
   "language": "python",
   "name": "python3"
  },
  "language_info": {
   "codemirror_mode": {
    "name": "ipython",
    "version": 3
   },
   "file_extension": ".py",
   "mimetype": "text/x-python",
   "name": "python",
   "nbconvert_exporter": "python",
   "pygments_lexer": "ipython3",
   "version": "3.12.4"
  }
 },
 "nbformat": 4,
 "nbformat_minor": 5
}
